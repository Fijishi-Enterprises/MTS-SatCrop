{
 "cells": [
  {
   "cell_type": "code",
   "execution_count": 1,
   "metadata": {},
   "outputs": [
    {
     "name": "stderr",
     "output_type": "stream",
     "text": [
      "/home/monster/anaconda3/envs/geo_py37/lib/python3.7/site-packages/tensorflow/python/framework/dtypes.py:516: FutureWarning: Passing (type, 1) or '1type' as a synonym of type is deprecated; in a future version of numpy, it will be understood as (type, (1,)) / '(1,)type'.\n",
      "  _np_qint8 = np.dtype([(\"qint8\", np.int8, 1)])\n",
      "/home/monster/anaconda3/envs/geo_py37/lib/python3.7/site-packages/tensorflow/python/framework/dtypes.py:517: FutureWarning: Passing (type, 1) or '1type' as a synonym of type is deprecated; in a future version of numpy, it will be understood as (type, (1,)) / '(1,)type'.\n",
      "  _np_quint8 = np.dtype([(\"quint8\", np.uint8, 1)])\n",
      "/home/monster/anaconda3/envs/geo_py37/lib/python3.7/site-packages/tensorflow/python/framework/dtypes.py:518: FutureWarning: Passing (type, 1) or '1type' as a synonym of type is deprecated; in a future version of numpy, it will be understood as (type, (1,)) / '(1,)type'.\n",
      "  _np_qint16 = np.dtype([(\"qint16\", np.int16, 1)])\n",
      "/home/monster/anaconda3/envs/geo_py37/lib/python3.7/site-packages/tensorflow/python/framework/dtypes.py:519: FutureWarning: Passing (type, 1) or '1type' as a synonym of type is deprecated; in a future version of numpy, it will be understood as (type, (1,)) / '(1,)type'.\n",
      "  _np_quint16 = np.dtype([(\"quint16\", np.uint16, 1)])\n",
      "/home/monster/anaconda3/envs/geo_py37/lib/python3.7/site-packages/tensorflow/python/framework/dtypes.py:520: FutureWarning: Passing (type, 1) or '1type' as a synonym of type is deprecated; in a future version of numpy, it will be understood as (type, (1,)) / '(1,)type'.\n",
      "  _np_qint32 = np.dtype([(\"qint32\", np.int32, 1)])\n",
      "/home/monster/anaconda3/envs/geo_py37/lib/python3.7/site-packages/tensorflow/python/framework/dtypes.py:525: FutureWarning: Passing (type, 1) or '1type' as a synonym of type is deprecated; in a future version of numpy, it will be understood as (type, (1,)) / '(1,)type'.\n",
      "  np_resource = np.dtype([(\"resource\", np.ubyte, 1)])\n",
      "/home/monster/anaconda3/envs/geo_py37/lib/python3.7/site-packages/tensorboard/compat/tensorflow_stub/dtypes.py:541: FutureWarning: Passing (type, 1) or '1type' as a synonym of type is deprecated; in a future version of numpy, it will be understood as (type, (1,)) / '(1,)type'.\n",
      "  _np_qint8 = np.dtype([(\"qint8\", np.int8, 1)])\n",
      "/home/monster/anaconda3/envs/geo_py37/lib/python3.7/site-packages/tensorboard/compat/tensorflow_stub/dtypes.py:542: FutureWarning: Passing (type, 1) or '1type' as a synonym of type is deprecated; in a future version of numpy, it will be understood as (type, (1,)) / '(1,)type'.\n",
      "  _np_quint8 = np.dtype([(\"quint8\", np.uint8, 1)])\n",
      "/home/monster/anaconda3/envs/geo_py37/lib/python3.7/site-packages/tensorboard/compat/tensorflow_stub/dtypes.py:543: FutureWarning: Passing (type, 1) or '1type' as a synonym of type is deprecated; in a future version of numpy, it will be understood as (type, (1,)) / '(1,)type'.\n",
      "  _np_qint16 = np.dtype([(\"qint16\", np.int16, 1)])\n",
      "/home/monster/anaconda3/envs/geo_py37/lib/python3.7/site-packages/tensorboard/compat/tensorflow_stub/dtypes.py:544: FutureWarning: Passing (type, 1) or '1type' as a synonym of type is deprecated; in a future version of numpy, it will be understood as (type, (1,)) / '(1,)type'.\n",
      "  _np_quint16 = np.dtype([(\"quint16\", np.uint16, 1)])\n",
      "/home/monster/anaconda3/envs/geo_py37/lib/python3.7/site-packages/tensorboard/compat/tensorflow_stub/dtypes.py:545: FutureWarning: Passing (type, 1) or '1type' as a synonym of type is deprecated; in a future version of numpy, it will be understood as (type, (1,)) / '(1,)type'.\n",
      "  _np_qint32 = np.dtype([(\"qint32\", np.int32, 1)])\n",
      "/home/monster/anaconda3/envs/geo_py37/lib/python3.7/site-packages/tensorboard/compat/tensorflow_stub/dtypes.py:550: FutureWarning: Passing (type, 1) or '1type' as a synonym of type is deprecated; in a future version of numpy, it will be understood as (type, (1,)) / '(1,)type'.\n",
      "  np_resource = np.dtype([(\"resource\", np.ubyte, 1)])\n",
      "Using TensorFlow backend.\n"
     ]
    }
   ],
   "source": [
    "import pandas as pd\n",
    "import numpy as np\n",
    "import tensorflow\n",
    "import keras\n",
    "from keras.models import Sequential\n",
    "from keras.layers import Dense, Activation, Conv1D, MaxPooling1D, Flatten"
   ]
  },
  {
   "cell_type": "code",
   "execution_count": 2,
   "metadata": {},
   "outputs": [],
   "source": [
    "import pandas\n",
    "from keras.models import Sequential\n",
    "from keras.layers import Dense\n",
    "from keras.wrappers.scikit_learn import KerasClassifier\n",
    "from keras.utils import np_utils\n",
    "from sklearn.model_selection import cross_val_score\n",
    "from sklearn.model_selection import KFold\n",
    "from sklearn.preprocessing import LabelEncoder\n",
    "from sklearn.pipeline import Pipeline"
   ]
  },
  {
   "cell_type": "code",
   "execution_count": 3,
   "metadata": {},
   "outputs": [],
   "source": [
    "from sklearn.model_selection import train_test_split"
   ]
  },
  {
   "cell_type": "code",
   "execution_count": 5,
   "metadata": {},
   "outputs": [],
   "source": [
    "X_final = pd.read_csv('../Dataset/final.csv')"
   ]
  },
  {
   "cell_type": "code",
   "execution_count": 6,
   "metadata": {},
   "outputs": [
    {
     "data": {
      "text/html": [
       "<div>\n",
       "<style scoped>\n",
       "    .dataframe tbody tr th:only-of-type {\n",
       "        vertical-align: middle;\n",
       "    }\n",
       "\n",
       "    .dataframe tbody tr th {\n",
       "        vertical-align: top;\n",
       "    }\n",
       "\n",
       "    .dataframe thead th {\n",
       "        text-align: right;\n",
       "    }\n",
       "</style>\n",
       "<table border=\"1\" class=\"dataframe\">\n",
       "  <thead>\n",
       "    <tr style=\"text-align: right;\">\n",
       "      <th></th>\n",
       "      <th>col_0</th>\n",
       "      <th>col_1</th>\n",
       "      <th>col_2</th>\n",
       "      <th>col_3</th>\n",
       "      <th>col_4</th>\n",
       "      <th>col_5</th>\n",
       "      <th>col_6</th>\n",
       "      <th>col_7</th>\n",
       "      <th>col_8</th>\n",
       "      <th>col_9</th>\n",
       "      <th>...</th>\n",
       "      <th>col_41</th>\n",
       "      <th>col_42</th>\n",
       "      <th>col_43</th>\n",
       "      <th>col_44</th>\n",
       "      <th>col_45</th>\n",
       "      <th>col_46</th>\n",
       "      <th>col_47</th>\n",
       "      <th>col_48</th>\n",
       "      <th>col_49</th>\n",
       "      <th>col_50</th>\n",
       "    </tr>\n",
       "  </thead>\n",
       "  <tbody>\n",
       "    <tr>\n",
       "      <th>0</th>\n",
       "      <td>4077.0</td>\n",
       "      <td>3801.0</td>\n",
       "      <td>3588.0</td>\n",
       "      <td>3341.0</td>\n",
       "      <td>3509.0</td>\n",
       "      <td>9578.0</td>\n",
       "      <td>10052.0</td>\n",
       "      <td>10280.0</td>\n",
       "      <td>8968.0</td>\n",
       "      <td>8832.0</td>\n",
       "      <td>...</td>\n",
       "      <td>4815.0</td>\n",
       "      <td>2918.0</td>\n",
       "      <td>4605.0</td>\n",
       "      <td>12363.0</td>\n",
       "      <td>5228.0</td>\n",
       "      <td>4855.0</td>\n",
       "      <td>5013.0</td>\n",
       "      <td>5556.0</td>\n",
       "      <td>6514.0</td>\n",
       "      <td>225</td>\n",
       "    </tr>\n",
       "    <tr>\n",
       "      <th>1</th>\n",
       "      <td>3400.0</td>\n",
       "      <td>3065.0</td>\n",
       "      <td>1710.0</td>\n",
       "      <td>3169.0</td>\n",
       "      <td>7538.0</td>\n",
       "      <td>7435.0</td>\n",
       "      <td>7382.0</td>\n",
       "      <td>7149.0</td>\n",
       "      <td>6712.0</td>\n",
       "      <td>6667.0</td>\n",
       "      <td>...</td>\n",
       "      <td>4802.0</td>\n",
       "      <td>2935.0</td>\n",
       "      <td>4860.0</td>\n",
       "      <td>11249.0</td>\n",
       "      <td>4058.0</td>\n",
       "      <td>3586.0</td>\n",
       "      <td>1835.0</td>\n",
       "      <td>4208.0</td>\n",
       "      <td>9019.0</td>\n",
       "      <td>225</td>\n",
       "    </tr>\n",
       "    <tr>\n",
       "      <th>2</th>\n",
       "      <td>4518.0</td>\n",
       "      <td>3882.0</td>\n",
       "      <td>3839.0</td>\n",
       "      <td>3623.0</td>\n",
       "      <td>3788.0</td>\n",
       "      <td>6678.0</td>\n",
       "      <td>5938.0</td>\n",
       "      <td>6144.0</td>\n",
       "      <td>5540.0</td>\n",
       "      <td>5463.0</td>\n",
       "      <td>...</td>\n",
       "      <td>9226.0</td>\n",
       "      <td>8795.0</td>\n",
       "      <td>8145.0</td>\n",
       "      <td>8119.0</td>\n",
       "      <td>4128.0</td>\n",
       "      <td>3423.0</td>\n",
       "      <td>1559.0</td>\n",
       "      <td>3836.0</td>\n",
       "      <td>12437.0</td>\n",
       "      <td>225</td>\n",
       "    </tr>\n",
       "    <tr>\n",
       "      <th>3</th>\n",
       "      <td>4078.0</td>\n",
       "      <td>3398.0</td>\n",
       "      <td>3342.0</td>\n",
       "      <td>2988.0</td>\n",
       "      <td>3025.0</td>\n",
       "      <td>5294.0</td>\n",
       "      <td>4518.0</td>\n",
       "      <td>3827.0</td>\n",
       "      <td>4085.0</td>\n",
       "      <td>4035.0</td>\n",
       "      <td>...</td>\n",
       "      <td>5541.0</td>\n",
       "      <td>3926.0</td>\n",
       "      <td>5093.0</td>\n",
       "      <td>8735.0</td>\n",
       "      <td>4712.0</td>\n",
       "      <td>4614.0</td>\n",
       "      <td>2746.0</td>\n",
       "      <td>4830.0</td>\n",
       "      <td>8588.0</td>\n",
       "      <td>225</td>\n",
       "    </tr>\n",
       "    <tr>\n",
       "      <th>4</th>\n",
       "      <td>4403.0</td>\n",
       "      <td>3869.0</td>\n",
       "      <td>3487.0</td>\n",
       "      <td>3553.0</td>\n",
       "      <td>4081.0</td>\n",
       "      <td>6378.0</td>\n",
       "      <td>5924.0</td>\n",
       "      <td>6098.0</td>\n",
       "      <td>5600.0</td>\n",
       "      <td>5386.0</td>\n",
       "      <td>...</td>\n",
       "      <td>8122.0</td>\n",
       "      <td>7147.0</td>\n",
       "      <td>6846.0</td>\n",
       "      <td>7443.0</td>\n",
       "      <td>4279.0</td>\n",
       "      <td>3817.0</td>\n",
       "      <td>2050.0</td>\n",
       "      <td>4205.0</td>\n",
       "      <td>12931.0</td>\n",
       "      <td>225</td>\n",
       "    </tr>\n",
       "    <tr>\n",
       "      <th>5</th>\n",
       "      <td>4970.0</td>\n",
       "      <td>4921.0</td>\n",
       "      <td>4935.0</td>\n",
       "      <td>4206.0</td>\n",
       "      <td>4221.0</td>\n",
       "      <td>7378.0</td>\n",
       "      <td>7389.0</td>\n",
       "      <td>7441.0</td>\n",
       "      <td>6809.0</td>\n",
       "      <td>6728.0</td>\n",
       "      <td>...</td>\n",
       "      <td>4567.0</td>\n",
       "      <td>2662.0</td>\n",
       "      <td>4547.0</td>\n",
       "      <td>12296.0</td>\n",
       "      <td>4115.0</td>\n",
       "      <td>3366.0</td>\n",
       "      <td>1620.0</td>\n",
       "      <td>3859.0</td>\n",
       "      <td>11571.0</td>\n",
       "      <td>225</td>\n",
       "    </tr>\n",
       "    <tr>\n",
       "      <th>6</th>\n",
       "      <td>5038.0</td>\n",
       "      <td>4923.0</td>\n",
       "      <td>4954.0</td>\n",
       "      <td>4417.0</td>\n",
       "      <td>4580.0</td>\n",
       "      <td>5826.0</td>\n",
       "      <td>5376.0</td>\n",
       "      <td>5184.0</td>\n",
       "      <td>4941.0</td>\n",
       "      <td>4804.0</td>\n",
       "      <td>...</td>\n",
       "      <td>4750.0</td>\n",
       "      <td>2757.0</td>\n",
       "      <td>4651.0</td>\n",
       "      <td>11018.0</td>\n",
       "      <td>4331.0</td>\n",
       "      <td>3489.0</td>\n",
       "      <td>1750.0</td>\n",
       "      <td>3759.0</td>\n",
       "      <td>11829.0</td>\n",
       "      <td>225</td>\n",
       "    </tr>\n",
       "    <tr>\n",
       "      <th>7</th>\n",
       "      <td>4150.0</td>\n",
       "      <td>4005.0</td>\n",
       "      <td>3357.0</td>\n",
       "      <td>3684.0</td>\n",
       "      <td>4278.0</td>\n",
       "      <td>6339.0</td>\n",
       "      <td>5899.0</td>\n",
       "      <td>5507.0</td>\n",
       "      <td>5621.0</td>\n",
       "      <td>6079.0</td>\n",
       "      <td>...</td>\n",
       "      <td>7906.0</td>\n",
       "      <td>7197.0</td>\n",
       "      <td>6697.0</td>\n",
       "      <td>6823.0</td>\n",
       "      <td>4053.0</td>\n",
       "      <td>3463.0</td>\n",
       "      <td>1656.0</td>\n",
       "      <td>3972.0</td>\n",
       "      <td>12663.0</td>\n",
       "      <td>225</td>\n",
       "    </tr>\n",
       "    <tr>\n",
       "      <th>8</th>\n",
       "      <td>3477.0</td>\n",
       "      <td>3247.0</td>\n",
       "      <td>2718.0</td>\n",
       "      <td>3128.0</td>\n",
       "      <td>4137.0</td>\n",
       "      <td>5144.0</td>\n",
       "      <td>3931.0</td>\n",
       "      <td>3241.0</td>\n",
       "      <td>3229.0</td>\n",
       "      <td>3283.0</td>\n",
       "      <td>...</td>\n",
       "      <td>4757.0</td>\n",
       "      <td>2908.0</td>\n",
       "      <td>4810.0</td>\n",
       "      <td>9400.0</td>\n",
       "      <td>4190.0</td>\n",
       "      <td>3455.0</td>\n",
       "      <td>1611.0</td>\n",
       "      <td>3945.0</td>\n",
       "      <td>12182.0</td>\n",
       "      <td>225</td>\n",
       "    </tr>\n",
       "    <tr>\n",
       "      <th>9</th>\n",
       "      <td>3764.0</td>\n",
       "      <td>3669.0</td>\n",
       "      <td>2359.0</td>\n",
       "      <td>3687.0</td>\n",
       "      <td>5992.0</td>\n",
       "      <td>8231.0</td>\n",
       "      <td>8365.0</td>\n",
       "      <td>8557.0</td>\n",
       "      <td>7788.0</td>\n",
       "      <td>7680.0</td>\n",
       "      <td>...</td>\n",
       "      <td>4780.0</td>\n",
       "      <td>3391.0</td>\n",
       "      <td>4538.0</td>\n",
       "      <td>9980.0</td>\n",
       "      <td>4221.0</td>\n",
       "      <td>3771.0</td>\n",
       "      <td>1933.0</td>\n",
       "      <td>4433.0</td>\n",
       "      <td>13686.0</td>\n",
       "      <td>225</td>\n",
       "    </tr>\n",
       "  </tbody>\n",
       "</table>\n",
       "<p>10 rows × 51 columns</p>\n",
       "</div>"
      ],
      "text/plain": [
       "    col_0   col_1   col_2   col_3   col_4   col_5    col_6    col_7   col_8  \\\n",
       "0  4077.0  3801.0  3588.0  3341.0  3509.0  9578.0  10052.0  10280.0  8968.0   \n",
       "1  3400.0  3065.0  1710.0  3169.0  7538.0  7435.0   7382.0   7149.0  6712.0   \n",
       "2  4518.0  3882.0  3839.0  3623.0  3788.0  6678.0   5938.0   6144.0  5540.0   \n",
       "3  4078.0  3398.0  3342.0  2988.0  3025.0  5294.0   4518.0   3827.0  4085.0   \n",
       "4  4403.0  3869.0  3487.0  3553.0  4081.0  6378.0   5924.0   6098.0  5600.0   \n",
       "5  4970.0  4921.0  4935.0  4206.0  4221.0  7378.0   7389.0   7441.0  6809.0   \n",
       "6  5038.0  4923.0  4954.0  4417.0  4580.0  5826.0   5376.0   5184.0  4941.0   \n",
       "7  4150.0  4005.0  3357.0  3684.0  4278.0  6339.0   5899.0   5507.0  5621.0   \n",
       "8  3477.0  3247.0  2718.0  3128.0  4137.0  5144.0   3931.0   3241.0  3229.0   \n",
       "9  3764.0  3669.0  2359.0  3687.0  5992.0  8231.0   8365.0   8557.0  7788.0   \n",
       "\n",
       "    col_9  ...  col_41  col_42  col_43   col_44  col_45  col_46  col_47  \\\n",
       "0  8832.0  ...  4815.0  2918.0  4605.0  12363.0  5228.0  4855.0  5013.0   \n",
       "1  6667.0  ...  4802.0  2935.0  4860.0  11249.0  4058.0  3586.0  1835.0   \n",
       "2  5463.0  ...  9226.0  8795.0  8145.0   8119.0  4128.0  3423.0  1559.0   \n",
       "3  4035.0  ...  5541.0  3926.0  5093.0   8735.0  4712.0  4614.0  2746.0   \n",
       "4  5386.0  ...  8122.0  7147.0  6846.0   7443.0  4279.0  3817.0  2050.0   \n",
       "5  6728.0  ...  4567.0  2662.0  4547.0  12296.0  4115.0  3366.0  1620.0   \n",
       "6  4804.0  ...  4750.0  2757.0  4651.0  11018.0  4331.0  3489.0  1750.0   \n",
       "7  6079.0  ...  7906.0  7197.0  6697.0   6823.0  4053.0  3463.0  1656.0   \n",
       "8  3283.0  ...  4757.0  2908.0  4810.0   9400.0  4190.0  3455.0  1611.0   \n",
       "9  7680.0  ...  4780.0  3391.0  4538.0   9980.0  4221.0  3771.0  1933.0   \n",
       "\n",
       "   col_48   col_49  col_50  \n",
       "0  5556.0   6514.0     225  \n",
       "1  4208.0   9019.0     225  \n",
       "2  3836.0  12437.0     225  \n",
       "3  4830.0   8588.0     225  \n",
       "4  4205.0  12931.0     225  \n",
       "5  3859.0  11571.0     225  \n",
       "6  3759.0  11829.0     225  \n",
       "7  3972.0  12663.0     225  \n",
       "8  3945.0  12182.0     225  \n",
       "9  4433.0  13686.0     225  \n",
       "\n",
       "[10 rows x 51 columns]"
      ]
     },
     "execution_count": 6,
     "metadata": {},
     "output_type": "execute_result"
    }
   ],
   "source": [
    "X_final.head(10)"
   ]
  },
  {
   "cell_type": "code",
   "execution_count": 7,
   "metadata": {},
   "outputs": [
    {
     "data": {
      "text/plain": [
       "(500000, 51)"
      ]
     },
     "execution_count": 7,
     "metadata": {},
     "output_type": "execute_result"
    }
   ],
   "source": [
    "X_final.shape"
   ]
  },
  {
   "cell_type": "code",
   "execution_count": 10,
   "metadata": {},
   "outputs": [],
   "source": [
    "mul = [i*5 for i in list(range(20))]"
   ]
  },
  {
   "cell_type": "code",
   "execution_count": 11,
   "metadata": {},
   "outputs": [
    {
     "name": "stdout",
     "output_type": "stream",
     "text": [
      "printing for t_ 0\n",
      "    col_0   col_1   col_2   col_3   col_4   col_5    col_6    col_7\n",
      "0  4077.0  3801.0  3588.0  3341.0  3509.0  9578.0  10052.0  10280.0\n",
      "1  3400.0  3065.0  1710.0  3169.0  7538.0  7435.0   7382.0   7149.0\n",
      "2  4518.0  3882.0  3839.0  3623.0  3788.0  6678.0   5938.0   6144.0\n",
      "3  4078.0  3398.0  3342.0  2988.0  3025.0  5294.0   4518.0   3827.0\n",
      "4  4403.0  3869.0  3487.0  3553.0  4081.0  6378.0   5924.0   6098.0\n",
      "(500000, 2)\n",
      "------------------------------\n",
      "printing for t_ 1\n",
      "    col_5    col_6    col_7   col_8   col_9  col_10  col_11  col_12\n",
      "0  9578.0  10052.0  10280.0  8968.0  8832.0  7140.0  7413.0  7128.0\n",
      "1  7435.0   7382.0   7149.0  6712.0  6667.0  7746.0  7603.0  7823.0\n",
      "2  6678.0   5938.0   6144.0  5540.0  5463.0  9418.0  9600.0  9507.0\n",
      "3  5294.0   4518.0   3827.0  4085.0  4035.0  7444.0  7222.0  7237.0\n",
      "4  6378.0   5924.0   6098.0  5600.0  5386.0  4942.0  4164.0  2658.0\n",
      "(500000, 3)\n",
      "------------------------------\n",
      "printing for t_ 2\n",
      "   col_10  col_11  col_12  col_13  col_14  col_15  col_16  col_17\n",
      "0  7140.0  7413.0  7128.0  6342.0  6442.0  5360.0  4345.0  3020.0\n",
      "1  7746.0  7603.0  7823.0  6855.0  6792.0  7065.0  6691.0  6987.0\n",
      "2  9418.0  9600.0  9507.0  8277.0  8132.0  5352.0  4194.0  2840.0\n",
      "3  7444.0  7222.0  7237.0  6569.0  6669.0  8075.0  8109.0  8912.0\n",
      "4  4942.0  4164.0  2658.0  4614.0  9598.0  5775.0  5272.0  3209.0\n",
      "(500000, 4)\n",
      "------------------------------\n",
      "printing for t_ 3\n",
      "   col_15  col_16  col_17  col_18   col_19  col_20  col_21  col_22\n",
      "0  5360.0  4345.0  3020.0  3564.0   8101.0  5546.0  4208.0  2629.0\n",
      "1  7065.0  6691.0  6987.0  5804.0   5915.0  6318.0  6324.0  4637.0\n",
      "2  5352.0  4194.0  2840.0  3243.0   8138.0  5946.0  4435.0  2760.0\n",
      "3  8075.0  8109.0  8912.0  7168.0   7839.0  5977.0  5190.0  3479.0\n",
      "4  5775.0  5272.0  3209.0  5017.0  12403.0  5640.0  4679.0  2981.0\n",
      "(500000, 5)\n",
      "------------------------------\n",
      "printing for t_ 4\n",
      "   col_20  col_21  col_22  col_23   col_24  col_25  col_26   col_27\n",
      "0  5546.0  4208.0  2629.0  3819.0  13090.0  6563.0  5655.0   3511.0\n",
      "1  6318.0  6324.0  4637.0  6040.0  12179.0  6574.0  5754.0   4200.0\n",
      "2  5946.0  4435.0  2760.0  3849.0  11250.0  9743.0  9964.0  10313.0\n",
      "3  5977.0  5190.0  3479.0  4650.0  10682.0  6019.0  4783.0   2640.0\n",
      "4  5640.0  4679.0  2981.0  3859.0  11004.0  7703.0  7517.0   6691.0\n",
      "(500000, 6)\n",
      "------------------------------\n",
      "printing for t_ 5\n",
      "   col_25  col_26   col_27  col_28   col_29   col_30   col_31   col_32\n",
      "0  6563.0  5655.0   3511.0  4559.0  11894.0   9099.0   9634.0   9220.0\n",
      "1  6574.0  5754.0   4200.0  4834.0   9151.0   8648.0   8340.0   8545.0\n",
      "2  9743.0  9964.0  10313.0  8824.0   9265.0  11292.0  11749.0  12200.0\n",
      "3  6019.0  4783.0   2640.0  3797.0  12066.0   8692.0   8951.0   9027.0\n",
      "4  7703.0  7517.0   6691.0  6783.0   9061.0  12995.0  13618.0  13091.0\n",
      "(500000, 7)\n",
      "------------------------------\n",
      "printing for t_ 6\n",
      "    col_30   col_31   col_32   col_33   col_34   col_35   col_36   col_37\n",
      "0   9099.0   9634.0   9220.0   8946.0  10481.0  10983.0  11136.0  10887.0\n",
      "1   8648.0   8340.0   8545.0   8057.0   7952.0  10299.0  10877.0  11196.0\n",
      "2  11292.0  11749.0  12200.0  11173.0  10934.0   8640.0   8192.0   8503.0\n",
      "3   8692.0   8951.0   9027.0   8363.0   8101.0   9871.0  10168.0  10467.0\n",
      "4  12995.0  13618.0  13091.0  11856.0  11108.0   9210.0   9691.0   9412.0\n",
      "(500000, 8)\n",
      "------------------------------\n",
      "printing for t_ 7\n",
      "    col_35   col_36   col_37  col_38  col_39  col_40  col_41  col_42\n",
      "0  10983.0  11136.0  10887.0  9719.0  9778.0  5865.0  4815.0  2918.0\n",
      "1  10299.0  10877.0  11196.0  9513.0  9630.0  5880.0  4802.0  2935.0\n",
      "2   8640.0   8192.0   8503.0  7649.0  8394.0  9460.0  9226.0  8795.0\n",
      "3   9871.0  10168.0  10467.0  9222.0  9231.0  6168.0  5541.0  3926.0\n",
      "4   9210.0   9691.0   9412.0  8834.0  9194.0  8637.0  8122.0  7147.0\n",
      "(500000, 9)\n",
      "------------------------------\n",
      "printing for t_ 8\n",
      "   col_40  col_41  col_42  col_43   col_44  col_45  col_46  col_47\n",
      "0  5865.0  4815.0  2918.0  4605.0  12363.0  5228.0  4855.0  5013.0\n",
      "1  5880.0  4802.0  2935.0  4860.0  11249.0  4058.0  3586.0  1835.0\n",
      "2  9460.0  9226.0  8795.0  8145.0   8119.0  4128.0  3423.0  1559.0\n",
      "3  6168.0  5541.0  3926.0  5093.0   8735.0  4712.0  4614.0  2746.0\n",
      "4  8637.0  8122.0  7147.0  6846.0   7443.0  4279.0  3817.0  2050.0\n",
      "(500000, 10)\n",
      "------------------------------\n",
      "printing for t_ 9\n",
      "   col_45  col_46  col_47  col_48   col_49  col_50\n",
      "0  5228.0  4855.0  5013.0  5556.0   6514.0     225\n",
      "1  4058.0  3586.0  1835.0  4208.0   9019.0     225\n",
      "2  4128.0  3423.0  1559.0  3836.0  12437.0     225\n",
      "3  4712.0  4614.0  2746.0  4830.0   8588.0     225\n",
      "4  4279.0  3817.0  2050.0  4205.0  12931.0     225\n",
      "(500000, 11)\n",
      "------------------------------\n",
      "printing for t_ 10\n",
      "   col_50\n",
      "0     225\n",
      "1     225\n",
      "2     225\n",
      "3     225\n",
      "4     225\n"
     ]
    },
    {
     "ename": "IndexError",
     "evalue": "index 1 is out of bounds for axis 0 with size 1",
     "output_type": "error",
     "traceback": [
      "\u001b[0;31m---------------------------------------------------------------------------\u001b[0m",
      "\u001b[0;31mIndexError\u001b[0m                                Traceback (most recent call last)",
      "\u001b[0;32m<ipython-input-11-a6ca97705ea2>\u001b[0m in \u001b[0;36m<module>\u001b[0;34m\u001b[0m\n\u001b[1;32m      5\u001b[0m     \u001b[0mprint\u001b[0m\u001b[0;34m(\u001b[0m\u001b[0mX_final\u001b[0m\u001b[0;34m.\u001b[0m\u001b[0miloc\u001b[0m\u001b[0;34m[\u001b[0m\u001b[0;34m:\u001b[0m\u001b[0;34m,\u001b[0m\u001b[0;36m0\u001b[0m\u001b[0;34m+\u001b[0m\u001b[0mm\u001b[0m\u001b[0;34m:\u001b[0m\u001b[0;36m8\u001b[0m\u001b[0;34m+\u001b[0m\u001b[0mm\u001b[0m\u001b[0;34m]\u001b[0m\u001b[0;34m.\u001b[0m\u001b[0mhead\u001b[0m\u001b[0;34m(\u001b[0m\u001b[0;36m5\u001b[0m\u001b[0;34m)\u001b[0m\u001b[0;34m)\u001b[0m\u001b[0;34m\u001b[0m\u001b[0;34m\u001b[0m\u001b[0m\n\u001b[1;32m      6\u001b[0m     \u001b[0mtemp\u001b[0m \u001b[0;34m=\u001b[0m \u001b[0mX_final\u001b[0m\u001b[0;34m.\u001b[0m\u001b[0miloc\u001b[0m\u001b[0;34m[\u001b[0m\u001b[0;34m:\u001b[0m\u001b[0;34m,\u001b[0m\u001b[0;36m0\u001b[0m\u001b[0;34m+\u001b[0m\u001b[0mm\u001b[0m\u001b[0;34m:\u001b[0m\u001b[0;36m8\u001b[0m\u001b[0;34m+\u001b[0m\u001b[0mm\u001b[0m\u001b[0;34m]\u001b[0m\u001b[0;34m\u001b[0m\u001b[0;34m\u001b[0m\u001b[0m\n\u001b[0;32m----> 7\u001b[0;31m     \u001b[0mndvi\u001b[0m \u001b[0;34m=\u001b[0m \u001b[0;34m(\u001b[0m\u001b[0mtemp\u001b[0m\u001b[0;34m.\u001b[0m\u001b[0mloc\u001b[0m\u001b[0;34m[\u001b[0m\u001b[0;34m:\u001b[0m\u001b[0;34m,\u001b[0m\u001b[0mtemp\u001b[0m\u001b[0;34m.\u001b[0m\u001b[0mcolumns\u001b[0m\u001b[0;34m[\u001b[0m\u001b[0;36m1\u001b[0m\u001b[0;34m]\u001b[0m\u001b[0;34m]\u001b[0m \u001b[0;34m-\u001b[0m \u001b[0mtemp\u001b[0m\u001b[0;34m.\u001b[0m\u001b[0mloc\u001b[0m\u001b[0;34m[\u001b[0m\u001b[0;34m:\u001b[0m\u001b[0;34m,\u001b[0m\u001b[0mtemp\u001b[0m\u001b[0;34m.\u001b[0m\u001b[0mcolumns\u001b[0m\u001b[0;34m[\u001b[0m\u001b[0;36m5\u001b[0m\u001b[0;34m]\u001b[0m\u001b[0;34m]\u001b[0m\u001b[0;34m)\u001b[0m \u001b[0;34m/\u001b[0m \u001b[0;34m(\u001b[0m\u001b[0mtemp\u001b[0m\u001b[0;34m.\u001b[0m\u001b[0mloc\u001b[0m\u001b[0;34m[\u001b[0m\u001b[0;34m:\u001b[0m\u001b[0;34m,\u001b[0m\u001b[0mtemp\u001b[0m\u001b[0;34m.\u001b[0m\u001b[0mcolumns\u001b[0m\u001b[0;34m[\u001b[0m\u001b[0;36m1\u001b[0m\u001b[0;34m]\u001b[0m\u001b[0;34m]\u001b[0m \u001b[0;34m+\u001b[0m \u001b[0mtemp\u001b[0m\u001b[0;34m.\u001b[0m\u001b[0mloc\u001b[0m\u001b[0;34m[\u001b[0m\u001b[0;34m:\u001b[0m\u001b[0;34m,\u001b[0m\u001b[0mtemp\u001b[0m\u001b[0;34m.\u001b[0m\u001b[0mcolumns\u001b[0m\u001b[0;34m[\u001b[0m\u001b[0;36m5\u001b[0m\u001b[0;34m]\u001b[0m\u001b[0;34m]\u001b[0m\u001b[0;34m)\u001b[0m\u001b[0;34m\u001b[0m\u001b[0;34m\u001b[0m\u001b[0m\n\u001b[0m\u001b[1;32m      8\u001b[0m     \u001b[0mXt1\u001b[0m \u001b[0;34m=\u001b[0m \u001b[0mpd\u001b[0m\u001b[0;34m.\u001b[0m\u001b[0mDataFrame\u001b[0m\u001b[0;34m(\u001b[0m\u001b[0mndvi\u001b[0m\u001b[0;34m)\u001b[0m\u001b[0;34m\u001b[0m\u001b[0;34m\u001b[0m\u001b[0m\n\u001b[1;32m      9\u001b[0m     \u001b[0mXt1\u001b[0m\u001b[0;34m.\u001b[0m\u001b[0mcolumns\u001b[0m \u001b[0;34m=\u001b[0m \u001b[0;34m[\u001b[0m\u001b[0;34m\"t_\"\u001b[0m\u001b[0;34m+\u001b[0m\u001b[0mstr\u001b[0m\u001b[0;34m(\u001b[0m\u001b[0mi\u001b[0m\u001b[0;34m)\u001b[0m\u001b[0;34m]\u001b[0m\u001b[0;34m\u001b[0m\u001b[0;34m\u001b[0m\u001b[0m\n",
      "\u001b[0;32m~/anaconda3/envs/geo_py37/lib/python3.7/site-packages/pandas/core/indexes/base.py\u001b[0m in \u001b[0;36m__getitem__\u001b[0;34m(self, key)\u001b[0m\n\u001b[1;32m   3928\u001b[0m         \u001b[0;32mif\u001b[0m \u001b[0mis_scalar\u001b[0m\u001b[0;34m(\u001b[0m\u001b[0mkey\u001b[0m\u001b[0;34m)\u001b[0m\u001b[0;34m:\u001b[0m\u001b[0;34m\u001b[0m\u001b[0;34m\u001b[0m\u001b[0m\n\u001b[1;32m   3929\u001b[0m             \u001b[0mkey\u001b[0m \u001b[0;34m=\u001b[0m \u001b[0mcom\u001b[0m\u001b[0;34m.\u001b[0m\u001b[0mcast_scalar_indexer\u001b[0m\u001b[0;34m(\u001b[0m\u001b[0mkey\u001b[0m\u001b[0;34m)\u001b[0m\u001b[0;34m\u001b[0m\u001b[0;34m\u001b[0m\u001b[0m\n\u001b[0;32m-> 3930\u001b[0;31m             \u001b[0;32mreturn\u001b[0m \u001b[0mgetitem\u001b[0m\u001b[0;34m(\u001b[0m\u001b[0mkey\u001b[0m\u001b[0;34m)\u001b[0m\u001b[0;34m\u001b[0m\u001b[0;34m\u001b[0m\u001b[0m\n\u001b[0m\u001b[1;32m   3931\u001b[0m \u001b[0;34m\u001b[0m\u001b[0m\n\u001b[1;32m   3932\u001b[0m         \u001b[0;32mif\u001b[0m \u001b[0misinstance\u001b[0m\u001b[0;34m(\u001b[0m\u001b[0mkey\u001b[0m\u001b[0;34m,\u001b[0m \u001b[0mslice\u001b[0m\u001b[0;34m)\u001b[0m\u001b[0;34m:\u001b[0m\u001b[0;34m\u001b[0m\u001b[0;34m\u001b[0m\u001b[0m\n",
      "\u001b[0;31mIndexError\u001b[0m: index 1 is out of bounds for axis 0 with size 1"
     ]
    }
   ],
   "source": [
    "ndvi_df = pd.DataFrame(pd.Series(X_final.iloc[:,-1]))\n",
    "i= 0\n",
    "for m in mul[:-1]:\n",
    "    print(\"printing for t_\",i)\n",
    "    print(X_final.iloc[:,0+m:5+m].head(5))\n",
    "    temp = X_final.iloc[:,0+m:5+m]\n",
    "    ndvi = (temp.loc[:,temp.columns[1]] - temp.loc[:,temp.columns[5]]) / (temp.loc[:,temp.columns[1]] + temp.loc[:,temp.columns[5]])\n",
    "    Xt1 = pd.DataFrame(ndvi)\n",
    "    Xt1.columns = [\"t_\"+str(i)]\n",
    "    ndvi_df = pd.concat([Xt1,ndvi_df],axis=1)\n",
    "    print(ndvi_df.shape)\n",
    "    print(\"------------------------------\")\n",
    "    i+=1"
   ]
  },
  {
   "cell_type": "code",
   "execution_count": null,
   "metadata": {},
   "outputs": [],
   "source": [
    "ndvi_df.head()"
   ]
  },
  {
   "cell_type": "code",
   "execution_count": null,
   "metadata": {},
   "outputs": [],
   "source": [
    "ndvi_df.shape"
   ]
  },
  {
   "cell_type": "code",
   "execution_count": null,
   "metadata": {},
   "outputs": [],
   "source": [
    "c1 = pd.DataFrame(np.mean(ndvi_df.loc[ndvi_df['col_152']=='Wheat',:],axis=0))\n",
    "c2 = pd.DataFrame(np.mean(ndvi_df.loc[ndvi_df['col_152']=='Potato',:],axis=0))\n",
    "c3 = pd.DataFrame(np.mean(ndvi_df.loc[ndvi_df['col_152']=='Red_Lentils_Masoor',:],axis=0))\n",
    "c4 = pd.DataFrame(np.mean(ndvi_df.loc[ndvi_df['col_152']=='Turmeric',:],axis=0))"
   ]
  },
  {
   "cell_type": "code",
   "execution_count": null,
   "metadata": {},
   "outputs": [],
   "source": [
    "import matplotlib.pyplot as plt\n",
    "%matplotlib inline"
   ]
  },
  {
   "cell_type": "code",
   "execution_count": null,
   "metadata": {},
   "outputs": [],
   "source": [
    "plt.plot(c1.index,c1.iloc[:,0],color='r')\n",
    "plt.plot(c2.index,c2.iloc[:,0],color='g')\n",
    "plt.plot(c3.index,c3.iloc[:,0],color='b')\n",
    "plt.plot(c4.index,c4.iloc[:,0],color='y')"
   ]
  },
  {
   "cell_type": "code",
   "execution_count": null,
   "metadata": {},
   "outputs": [],
   "source": [
    "ndvi_df['avg_ndvi'] = np.mean(ndvi_df,axis=1)"
   ]
  },
  {
   "cell_type": "code",
   "execution_count": null,
   "metadata": {},
   "outputs": [],
   "source": [
    "pd.pivot_table(ndvi_df,index=[\"col_152\"],values = ['avg_ndvi'] ,aggfunc=np.mean)"
   ]
  },
  {
   "cell_type": "code",
   "execution_count": null,
   "metadata": {},
   "outputs": [],
   "source": [
    "ndvi_df.head(20)"
   ]
  },
  {
   "cell_type": "code",
   "execution_count": null,
   "metadata": {},
   "outputs": [],
   "source": [
    "y_final = ndvi_df.iloc[:,-2]"
   ]
  },
  {
   "cell_type": "code",
   "execution_count": null,
   "metadata": {},
   "outputs": [],
   "source": [
    "# encode class values as integers\n",
    "encoder = LabelEncoder()\n",
    "encoder.fit(y_final)\n",
    "encoded_Y = encoder.transform(y_final)\n",
    "# convert integers to dummy variables (i.e. one hot encoded)\n",
    "dummy_y = keras.utils.to_categorical(encoded_Y,num_classes=4) "
   ]
  },
  {
   "cell_type": "code",
   "execution_count": null,
   "metadata": {},
   "outputs": [],
   "source": [
    "encoded_Y[:10]"
   ]
  },
  {
   "cell_type": "code",
   "execution_count": null,
   "metadata": {},
   "outputs": [],
   "source": [
    "dummy_y[0]"
   ]
  },
  {
   "cell_type": "code",
   "execution_count": null,
   "metadata": {},
   "outputs": [],
   "source": [
    "X_model =ndvi_df.drop(columns=['col_152'])"
   ]
  },
  {
   "cell_type": "code",
   "execution_count": null,
   "metadata": {},
   "outputs": [],
   "source": [
    "X_model.head(10)"
   ]
  },
  {
   "cell_type": "code",
   "execution_count": null,
   "metadata": {},
   "outputs": [],
   "source": [
    "X_train_ml, X_test_ml, y_train_ml, y_test_ml = train_test_split(X_model, encoded_Y, test_size=0.05, random_state=42,shuffle = True)"
   ]
  },
  {
   "cell_type": "code",
   "execution_count": null,
   "metadata": {},
   "outputs": [],
   "source": [
    "X_train_ml.shape,y_train_ml.shape"
   ]
  },
  {
   "cell_type": "code",
   "execution_count": null,
   "metadata": {},
   "outputs": [],
   "source": [
    "X_test_ml.shape,y_test_ml.shape"
   ]
  },
  {
   "cell_type": "code",
   "execution_count": null,
   "metadata": {},
   "outputs": [],
   "source": [
    "#models"
   ]
  },
  {
   "cell_type": "code",
   "execution_count": null,
   "metadata": {},
   "outputs": [],
   "source": [
    "#RandomForrest Classifier"
   ]
  },
  {
   "cell_type": "code",
   "execution_count": null,
   "metadata": {},
   "outputs": [],
   "source": [
    "from sklearn.ensemble import RandomForestClassifier\n",
    "\n",
    "# Initialize our model with 500 trees\n",
    "rf = RandomForestClassifier(n_estimators=500, random_state=0, n_jobs=-1)\n",
    "\n",
    "# Fit our model to training data\n",
    "rf = rf.fit(X_train_ml, y_train_ml)\n",
    "\n",
    "y_pred = rf.predict(X_test_ml)\n",
    "\n",
    "from sklearn.metrics import accuracy_score\n",
    "\n",
    "print(\"Accuracy\",accuracy_score(y_test_ml, y_pred))"
   ]
  },
  {
   "cell_type": "code",
   "execution_count": null,
   "metadata": {},
   "outputs": [],
   "source": [
    "#important features\n",
    "from sklearn.feature_selection import SelectFromModel\n",
    "sfm = SelectFromModel(rf, threshold=0.05)\n",
    "\n",
    "# Train the selector\n",
    "sfm.fit(X_train_ml, y_train_ml)\n",
    "\n",
    "for feature_list_index in sfm.get_support(indices=True):\n",
    "    print(X_train_ml.columns[feature_list_index])\n",
    "    "
   ]
  },
  {
   "cell_type": "code",
   "execution_count": null,
   "metadata": {},
   "outputs": [],
   "source": []
  },
  {
   "cell_type": "code",
   "execution_count": null,
   "metadata": {},
   "outputs": [],
   "source": []
  },
  {
   "cell_type": "code",
   "execution_count": null,
   "metadata": {},
   "outputs": [],
   "source": [
    "#Decision Tree Classifier"
   ]
  },
  {
   "cell_type": "code",
   "execution_count": null,
   "metadata": {},
   "outputs": [],
   "source": [
    "from sklearn.tree import DecisionTreeClassifier\n",
    "model = DecisionTreeClassifier(criterion = 'entropy', random_state = 0)\n",
    "\n",
    "model.fit(X_train_ml, y_train_ml)\n",
    "\n",
    "y_pred = model.predict(X_test_ml)\n",
    "\n",
    "from sklearn.metrics import accuracy_score\n",
    "\n",
    "print(\"Accuracy\",accuracy_score(y_test_ml, y_pred))"
   ]
  },
  {
   "cell_type": "code",
   "execution_count": null,
   "metadata": {},
   "outputs": [],
   "source": [
    "#Xgboost Classifier"
   ]
  },
  {
   "cell_type": "code",
   "execution_count": null,
   "metadata": {},
   "outputs": [],
   "source": [
    "from xgboost.sklearn import XGBClassifier\n",
    "\n",
    "model = XGBClassifier(learning_rate =0.1,\n",
    " n_estimators=1000,\n",
    " max_depth=5,\n",
    " min_child_weight=1,\n",
    " gamma=0,\n",
    " subsample=0.7,\n",
    " colsample_bytree=0.7,\n",
    " objective= 'multi:softmax',\n",
    " #num_class = 4,                     \n",
    " nthread=6,\n",
    " scale_pos_weight=1,\n",
    " seed=27)\n",
    "\n",
    "model.fit(X_train_ml, y_train_ml)\n",
    "\n",
    "y_pred = model.predict(X_test_ml)\n",
    "\n",
    "from sklearn.metrics import accuracy_score\n",
    "\n",
    "print(\"Accuracy\",accuracy_score(y_test_ml, y_pred))"
   ]
  },
  {
   "cell_type": "code",
   "execution_count": null,
   "metadata": {},
   "outputs": [],
   "source": [
    "#KNN Classifier"
   ]
  },
  {
   "cell_type": "code",
   "execution_count": null,
   "metadata": {},
   "outputs": [],
   "source": [
    "from sklearn.neighbors import KNeighborsClassifier\n",
    "model4 = KNeighborsClassifier(n_neighbors = 10, metric = 'minkowski', p = 2)\n",
    "\n",
    "model4.fit(X_train_ml, y_train_ml)\n",
    "\n",
    "y_pred = model4.predict(X_test_ml)\n",
    "\n",
    "from sklearn.metrics import accuracy_score\n",
    "\n",
    "print(\"Accuracy\",accuracy_score(y_test_ml, y_pred))"
   ]
  },
  {
   "cell_type": "code",
   "execution_count": null,
   "metadata": {},
   "outputs": [],
   "source": []
  }
 ],
 "metadata": {
  "kernelspec": {
   "display_name": "Python 3",
   "language": "python",
   "name": "python3"
  },
  "language_info": {
   "codemirror_mode": {
    "name": "ipython",
    "version": 3
   },
   "file_extension": ".py",
   "mimetype": "text/x-python",
   "name": "python",
   "nbconvert_exporter": "python",
   "pygments_lexer": "ipython3",
   "version": "3.7.6"
  }
 },
 "nbformat": 4,
 "nbformat_minor": 2
}
