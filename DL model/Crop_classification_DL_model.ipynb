{
 "cells": [
  {
   "cell_type": "code",
   "execution_count": 1,
   "metadata": {},
   "outputs": [],
   "source": [
    "# Import NumPy for some statistics\n",
    "import numpy as np\n",
    "import pandas as pd"
   ]
  },
  {
   "cell_type": "code",
   "execution_count": 2,
   "metadata": {},
   "outputs": [],
   "source": [
    "df = pd.read_csv(\"../Dataset/final.csv\")"
   ]
  },
  {
   "cell_type": "code",
   "execution_count": 3,
   "metadata": {},
   "outputs": [
    {
     "data": {
      "text/html": [
       "<div>\n",
       "<style scoped>\n",
       "    .dataframe tbody tr th:only-of-type {\n",
       "        vertical-align: middle;\n",
       "    }\n",
       "\n",
       "    .dataframe tbody tr th {\n",
       "        vertical-align: top;\n",
       "    }\n",
       "\n",
       "    .dataframe thead th {\n",
       "        text-align: right;\n",
       "    }\n",
       "</style>\n",
       "<table border=\"1\" class=\"dataframe\">\n",
       "  <thead>\n",
       "    <tr style=\"text-align: right;\">\n",
       "      <th></th>\n",
       "      <th>col_0</th>\n",
       "      <th>col_1</th>\n",
       "      <th>col_2</th>\n",
       "      <th>col_3</th>\n",
       "      <th>col_4</th>\n",
       "      <th>col_5</th>\n",
       "      <th>col_6</th>\n",
       "      <th>col_7</th>\n",
       "      <th>col_8</th>\n",
       "      <th>col_9</th>\n",
       "      <th>...</th>\n",
       "      <th>col_41</th>\n",
       "      <th>col_42</th>\n",
       "      <th>col_43</th>\n",
       "      <th>col_44</th>\n",
       "      <th>col_45</th>\n",
       "      <th>col_46</th>\n",
       "      <th>col_47</th>\n",
       "      <th>col_48</th>\n",
       "      <th>col_49</th>\n",
       "      <th>col_50</th>\n",
       "    </tr>\n",
       "  </thead>\n",
       "  <tbody>\n",
       "    <tr>\n",
       "      <th>0</th>\n",
       "      <td>4077.0</td>\n",
       "      <td>3801.0</td>\n",
       "      <td>3588.0</td>\n",
       "      <td>3341.0</td>\n",
       "      <td>3509.0</td>\n",
       "      <td>9578.0</td>\n",
       "      <td>10052.0</td>\n",
       "      <td>10280.0</td>\n",
       "      <td>8968.0</td>\n",
       "      <td>8832.0</td>\n",
       "      <td>...</td>\n",
       "      <td>4815.0</td>\n",
       "      <td>2918.0</td>\n",
       "      <td>4605.0</td>\n",
       "      <td>12363.0</td>\n",
       "      <td>5228.0</td>\n",
       "      <td>4855.0</td>\n",
       "      <td>5013.0</td>\n",
       "      <td>5556.0</td>\n",
       "      <td>6514.0</td>\n",
       "      <td>225</td>\n",
       "    </tr>\n",
       "    <tr>\n",
       "      <th>1</th>\n",
       "      <td>3400.0</td>\n",
       "      <td>3065.0</td>\n",
       "      <td>1710.0</td>\n",
       "      <td>3169.0</td>\n",
       "      <td>7538.0</td>\n",
       "      <td>7435.0</td>\n",
       "      <td>7382.0</td>\n",
       "      <td>7149.0</td>\n",
       "      <td>6712.0</td>\n",
       "      <td>6667.0</td>\n",
       "      <td>...</td>\n",
       "      <td>4802.0</td>\n",
       "      <td>2935.0</td>\n",
       "      <td>4860.0</td>\n",
       "      <td>11249.0</td>\n",
       "      <td>4058.0</td>\n",
       "      <td>3586.0</td>\n",
       "      <td>1835.0</td>\n",
       "      <td>4208.0</td>\n",
       "      <td>9019.0</td>\n",
       "      <td>225</td>\n",
       "    </tr>\n",
       "    <tr>\n",
       "      <th>2</th>\n",
       "      <td>4518.0</td>\n",
       "      <td>3882.0</td>\n",
       "      <td>3839.0</td>\n",
       "      <td>3623.0</td>\n",
       "      <td>3788.0</td>\n",
       "      <td>6678.0</td>\n",
       "      <td>5938.0</td>\n",
       "      <td>6144.0</td>\n",
       "      <td>5540.0</td>\n",
       "      <td>5463.0</td>\n",
       "      <td>...</td>\n",
       "      <td>9226.0</td>\n",
       "      <td>8795.0</td>\n",
       "      <td>8145.0</td>\n",
       "      <td>8119.0</td>\n",
       "      <td>4128.0</td>\n",
       "      <td>3423.0</td>\n",
       "      <td>1559.0</td>\n",
       "      <td>3836.0</td>\n",
       "      <td>12437.0</td>\n",
       "      <td>225</td>\n",
       "    </tr>\n",
       "    <tr>\n",
       "      <th>3</th>\n",
       "      <td>4078.0</td>\n",
       "      <td>3398.0</td>\n",
       "      <td>3342.0</td>\n",
       "      <td>2988.0</td>\n",
       "      <td>3025.0</td>\n",
       "      <td>5294.0</td>\n",
       "      <td>4518.0</td>\n",
       "      <td>3827.0</td>\n",
       "      <td>4085.0</td>\n",
       "      <td>4035.0</td>\n",
       "      <td>...</td>\n",
       "      <td>5541.0</td>\n",
       "      <td>3926.0</td>\n",
       "      <td>5093.0</td>\n",
       "      <td>8735.0</td>\n",
       "      <td>4712.0</td>\n",
       "      <td>4614.0</td>\n",
       "      <td>2746.0</td>\n",
       "      <td>4830.0</td>\n",
       "      <td>8588.0</td>\n",
       "      <td>225</td>\n",
       "    </tr>\n",
       "    <tr>\n",
       "      <th>4</th>\n",
       "      <td>4403.0</td>\n",
       "      <td>3869.0</td>\n",
       "      <td>3487.0</td>\n",
       "      <td>3553.0</td>\n",
       "      <td>4081.0</td>\n",
       "      <td>6378.0</td>\n",
       "      <td>5924.0</td>\n",
       "      <td>6098.0</td>\n",
       "      <td>5600.0</td>\n",
       "      <td>5386.0</td>\n",
       "      <td>...</td>\n",
       "      <td>8122.0</td>\n",
       "      <td>7147.0</td>\n",
       "      <td>6846.0</td>\n",
       "      <td>7443.0</td>\n",
       "      <td>4279.0</td>\n",
       "      <td>3817.0</td>\n",
       "      <td>2050.0</td>\n",
       "      <td>4205.0</td>\n",
       "      <td>12931.0</td>\n",
       "      <td>225</td>\n",
       "    </tr>\n",
       "  </tbody>\n",
       "</table>\n",
       "<p>5 rows × 51 columns</p>\n",
       "</div>"
      ],
      "text/plain": [
       "    col_0   col_1   col_2   col_3   col_4   col_5    col_6    col_7   col_8  \\\n",
       "0  4077.0  3801.0  3588.0  3341.0  3509.0  9578.0  10052.0  10280.0  8968.0   \n",
       "1  3400.0  3065.0  1710.0  3169.0  7538.0  7435.0   7382.0   7149.0  6712.0   \n",
       "2  4518.0  3882.0  3839.0  3623.0  3788.0  6678.0   5938.0   6144.0  5540.0   \n",
       "3  4078.0  3398.0  3342.0  2988.0  3025.0  5294.0   4518.0   3827.0  4085.0   \n",
       "4  4403.0  3869.0  3487.0  3553.0  4081.0  6378.0   5924.0   6098.0  5600.0   \n",
       "\n",
       "    col_9  ...  col_41  col_42  col_43   col_44  col_45  col_46  col_47  \\\n",
       "0  8832.0  ...  4815.0  2918.0  4605.0  12363.0  5228.0  4855.0  5013.0   \n",
       "1  6667.0  ...  4802.0  2935.0  4860.0  11249.0  4058.0  3586.0  1835.0   \n",
       "2  5463.0  ...  9226.0  8795.0  8145.0   8119.0  4128.0  3423.0  1559.0   \n",
       "3  4035.0  ...  5541.0  3926.0  5093.0   8735.0  4712.0  4614.0  2746.0   \n",
       "4  5386.0  ...  8122.0  7147.0  6846.0   7443.0  4279.0  3817.0  2050.0   \n",
       "\n",
       "   col_48   col_49  col_50  \n",
       "0  5556.0   6514.0     225  \n",
       "1  4208.0   9019.0     225  \n",
       "2  3836.0  12437.0     225  \n",
       "3  4830.0   8588.0     225  \n",
       "4  4205.0  12931.0     225  \n",
       "\n",
       "[5 rows x 51 columns]"
      ]
     },
     "execution_count": 3,
     "metadata": {},
     "output_type": "execute_result"
    }
   ],
   "source": [
    "df.head()"
   ]
  },
  {
   "cell_type": "code",
   "execution_count": 4,
   "metadata": {},
   "outputs": [],
   "source": [
    "labels = df.iloc[:,-1]"
   ]
  },
  {
   "cell_type": "code",
   "execution_count": 5,
   "metadata": {},
   "outputs": [],
   "source": [
    "data = df.drop(df.columns[50],axis=1)"
   ]
  },
  {
   "cell_type": "code",
   "execution_count": 6,
   "metadata": {},
   "outputs": [
    {
     "data": {
      "text/plain": [
       "(500000, 50)"
      ]
     },
     "execution_count": 6,
     "metadata": {},
     "output_type": "execute_result"
    }
   ],
   "source": [
    "data.shape"
   ]
  },
  {
   "cell_type": "code",
   "execution_count": 7,
   "metadata": {},
   "outputs": [
    {
     "name": "stderr",
     "output_type": "stream",
     "text": [
      "/home/monster/anaconda3/envs/geo_py37/lib/python3.7/site-packages/tensorflow/python/framework/dtypes.py:516: FutureWarning: Passing (type, 1) or '1type' as a synonym of type is deprecated; in a future version of numpy, it will be understood as (type, (1,)) / '(1,)type'.\n",
      "  _np_qint8 = np.dtype([(\"qint8\", np.int8, 1)])\n",
      "/home/monster/anaconda3/envs/geo_py37/lib/python3.7/site-packages/tensorflow/python/framework/dtypes.py:517: FutureWarning: Passing (type, 1) or '1type' as a synonym of type is deprecated; in a future version of numpy, it will be understood as (type, (1,)) / '(1,)type'.\n",
      "  _np_quint8 = np.dtype([(\"quint8\", np.uint8, 1)])\n",
      "/home/monster/anaconda3/envs/geo_py37/lib/python3.7/site-packages/tensorflow/python/framework/dtypes.py:518: FutureWarning: Passing (type, 1) or '1type' as a synonym of type is deprecated; in a future version of numpy, it will be understood as (type, (1,)) / '(1,)type'.\n",
      "  _np_qint16 = np.dtype([(\"qint16\", np.int16, 1)])\n",
      "/home/monster/anaconda3/envs/geo_py37/lib/python3.7/site-packages/tensorflow/python/framework/dtypes.py:519: FutureWarning: Passing (type, 1) or '1type' as a synonym of type is deprecated; in a future version of numpy, it will be understood as (type, (1,)) / '(1,)type'.\n",
      "  _np_quint16 = np.dtype([(\"quint16\", np.uint16, 1)])\n",
      "/home/monster/anaconda3/envs/geo_py37/lib/python3.7/site-packages/tensorflow/python/framework/dtypes.py:520: FutureWarning: Passing (type, 1) or '1type' as a synonym of type is deprecated; in a future version of numpy, it will be understood as (type, (1,)) / '(1,)type'.\n",
      "  _np_qint32 = np.dtype([(\"qint32\", np.int32, 1)])\n",
      "/home/monster/anaconda3/envs/geo_py37/lib/python3.7/site-packages/tensorflow/python/framework/dtypes.py:525: FutureWarning: Passing (type, 1) or '1type' as a synonym of type is deprecated; in a future version of numpy, it will be understood as (type, (1,)) / '(1,)type'.\n",
      "  np_resource = np.dtype([(\"resource\", np.ubyte, 1)])\n",
      "/home/monster/anaconda3/envs/geo_py37/lib/python3.7/site-packages/tensorboard/compat/tensorflow_stub/dtypes.py:541: FutureWarning: Passing (type, 1) or '1type' as a synonym of type is deprecated; in a future version of numpy, it will be understood as (type, (1,)) / '(1,)type'.\n",
      "  _np_qint8 = np.dtype([(\"qint8\", np.int8, 1)])\n",
      "/home/monster/anaconda3/envs/geo_py37/lib/python3.7/site-packages/tensorboard/compat/tensorflow_stub/dtypes.py:542: FutureWarning: Passing (type, 1) or '1type' as a synonym of type is deprecated; in a future version of numpy, it will be understood as (type, (1,)) / '(1,)type'.\n",
      "  _np_quint8 = np.dtype([(\"quint8\", np.uint8, 1)])\n",
      "/home/monster/anaconda3/envs/geo_py37/lib/python3.7/site-packages/tensorboard/compat/tensorflow_stub/dtypes.py:543: FutureWarning: Passing (type, 1) or '1type' as a synonym of type is deprecated; in a future version of numpy, it will be understood as (type, (1,)) / '(1,)type'.\n",
      "  _np_qint16 = np.dtype([(\"qint16\", np.int16, 1)])\n",
      "/home/monster/anaconda3/envs/geo_py37/lib/python3.7/site-packages/tensorboard/compat/tensorflow_stub/dtypes.py:544: FutureWarning: Passing (type, 1) or '1type' as a synonym of type is deprecated; in a future version of numpy, it will be understood as (type, (1,)) / '(1,)type'.\n",
      "  _np_quint16 = np.dtype([(\"quint16\", np.uint16, 1)])\n",
      "/home/monster/anaconda3/envs/geo_py37/lib/python3.7/site-packages/tensorboard/compat/tensorflow_stub/dtypes.py:545: FutureWarning: Passing (type, 1) or '1type' as a synonym of type is deprecated; in a future version of numpy, it will be understood as (type, (1,)) / '(1,)type'.\n",
      "  _np_qint32 = np.dtype([(\"qint32\", np.int32, 1)])\n",
      "/home/monster/anaconda3/envs/geo_py37/lib/python3.7/site-packages/tensorboard/compat/tensorflow_stub/dtypes.py:550: FutureWarning: Passing (type, 1) or '1type' as a synonym of type is deprecated; in a future version of numpy, it will be understood as (type, (1,)) / '(1,)type'.\n",
      "  np_resource = np.dtype([(\"resource\", np.ubyte, 1)])\n",
      "Using TensorFlow backend.\n"
     ]
    }
   ],
   "source": [
    "import tensorflow\n",
    "import keras\n",
    "from keras.models import Sequential\n",
    "from keras.layers import Dense, Activation, Conv1D, MaxPooling1D, Flatten"
   ]
  },
  {
   "cell_type": "code",
   "execution_count": 8,
   "metadata": {},
   "outputs": [],
   "source": [
    "import pandas\n",
    "from keras.models import Sequential\n",
    "from keras.layers import Dense\n",
    "from keras.wrappers.scikit_learn import KerasClassifier\n",
    "from keras.utils import np_utils\n",
    "from sklearn.model_selection import cross_val_score\n",
    "from sklearn.model_selection import KFold\n",
    "from sklearn.preprocessing import LabelEncoder\n",
    "from sklearn.pipeline import Pipeline"
   ]
  },
  {
   "cell_type": "code",
   "execution_count": 9,
   "metadata": {},
   "outputs": [],
   "source": [
    "from sklearn.model_selection import train_test_split"
   ]
  },
  {
   "cell_type": "code",
   "execution_count": 10,
   "metadata": {},
   "outputs": [],
   "source": [
    "# encode class values as integers\n",
    "encoder = LabelEncoder()\n",
    "encoder.fit(labels)\n",
    "encoded_Y = encoder.transform(labels)\n",
    "# convert integers to dummy variables (i.e. one hot encoded)\n",
    "dummy_y = keras.utils.to_categorical(encoded_Y,num_classes=5) #np_utils.to_categorical(encoded_Y)"
   ]
  },
  {
   "cell_type": "code",
   "execution_count": 11,
   "metadata": {},
   "outputs": [],
   "source": [
    "X_train, X_test, y_train, y_test = train_test_split(data, dummy_y, test_size=0.05, random_state=42,shuffle = True)"
   ]
  },
  {
   "cell_type": "code",
   "execution_count": 12,
   "metadata": {},
   "outputs": [],
   "source": [
    "from sklearn.preprocessing import StandardScaler\n",
    "sc_X = StandardScaler()\n",
    "X_train = sc_X.fit_transform(X_train)\n",
    "X_test = sc_X.transform(X_test)"
   ]
  },
  {
   "cell_type": "code",
   "execution_count": 13,
   "metadata": {},
   "outputs": [],
   "source": [
    "from keras.layers import Dense, Dropout, Activation\n",
    "from keras.optimizers import SGD"
   ]
  },
  {
   "cell_type": "code",
   "execution_count": 14,
   "metadata": {},
   "outputs": [
    {
     "name": "stdout",
     "output_type": "stream",
     "text": [
      "Model: \"sequential_1\"\n",
      "_________________________________________________________________\n",
      "Layer (type)                 Output Shape              Param #   \n",
      "=================================================================\n",
      "dense_1 (Dense)              (None, 200)               10200     \n",
      "_________________________________________________________________\n",
      "dropout_1 (Dropout)          (None, 200)               0         \n",
      "_________________________________________________________________\n",
      "dense_2 (Dense)              (None, 5)                 1005      \n",
      "=================================================================\n",
      "Total params: 11,205\n",
      "Trainable params: 11,205\n",
      "Non-trainable params: 0\n",
      "_________________________________________________________________\n"
     ]
    }
   ],
   "source": [
    "import numpy\n",
    "import pandas\n",
    "from keras.models import Sequential\n",
    "from keras.layers import Dense\n",
    "from keras.wrappers.scikit_learn import KerasClassifier\n",
    "from keras.utils import np_utils\n",
    "from sklearn.model_selection import cross_val_score\n",
    "from sklearn.model_selection import KFold\n",
    "from sklearn.preprocessing import LabelEncoder\n",
    "from sklearn.pipeline import Pipeline\n",
    "from keras import regularizers\n",
    "from keras import initializers\n",
    "\n",
    "# fix random seed for reproducibility\n",
    "seed = 7\n",
    "numpy.random.seed(seed)\n",
    "\n",
    "\n",
    "\n",
    "model = Sequential()\n",
    "model.add(Dense(200, input_shape=(50, ), activation='relu',kernel_regularizer=regularizers.l2(1e-5),kernel_initializer=keras.initializers.glorot_normal(seed=seed),bias_initializer='zeros'))\n",
    "model.add(Dropout(5))\n",
    "model.add(Dense(5, activation='softmax'))\n",
    "model.summary()\n",
    "\n",
    "# Compile model\n",
    "#model.compile(loss='categorical_crossentropy', optimizer='adam', metrics=['accuracy'])\n"
   ]
  },
  {
   "cell_type": "code",
   "execution_count": 15,
   "metadata": {},
   "outputs": [],
   "source": [
    "sgd = keras.optimizers.Adadelta()\n",
    "model.compile(loss='categorical_crossentropy',\n",
    "              optimizer=sgd,\n",
    "              metrics=['acc'])"
   ]
  },
  {
   "cell_type": "code",
   "execution_count": 16,
   "metadata": {},
   "outputs": [
    {
     "name": "stdout",
     "output_type": "stream",
     "text": [
      "WARNING:tensorflow:From /home/monster/anaconda3/envs/geo_py37/lib/python3.7/site-packages/keras/backend/tensorflow_backend.py:422: The name tf.global_variables is deprecated. Please use tf.compat.v1.global_variables instead.\n",
      "\n",
      "Epoch 1/10\n",
      "475000/475000 [==============================] - 4s 8us/step - loss: 0.2349 - acc: 0.9170\n",
      "Epoch 2/10\n",
      "475000/475000 [==============================] - 4s 8us/step - loss: 0.1768 - acc: 0.9364\n",
      "Epoch 3/10\n",
      "475000/475000 [==============================] - 4s 8us/step - loss: 0.1667 - acc: 0.9398\n",
      "Epoch 4/10\n",
      "475000/475000 [==============================] - 4s 8us/step - loss: 0.1603 - acc: 0.9423\n",
      "Epoch 5/10\n",
      "475000/475000 [==============================] - 4s 8us/step - loss: 0.1559 - acc: 0.9440\n",
      "Epoch 6/10\n",
      "475000/475000 [==============================] - 4s 8us/step - loss: 0.1522 - acc: 0.9455\n",
      "Epoch 7/10\n",
      "475000/475000 [==============================] - 4s 8us/step - loss: 0.1496 - acc: 0.9464\n",
      "Epoch 8/10\n",
      "475000/475000 [==============================] - 4s 8us/step - loss: 0.1471 - acc: 0.9472\n",
      "Epoch 9/10\n",
      "475000/475000 [==============================] - 4s 8us/step - loss: 0.1450 - acc: 0.9481\n",
      "Epoch 10/10\n",
      "475000/475000 [==============================] - 4s 8us/step - loss: 0.1432 - acc: 0.9487\n",
      "25000/25000 [==============================] - 0s 4us/step\n",
      "\n",
      "acc: 94.45%\n"
     ]
    }
   ],
   "source": [
    "model.fit(X_train, y_train,\n",
    "          epochs=10,\n",
    "          batch_size=100,\n",
    "         shuffle=True)\n",
    "score = model.evaluate(X_test, y_test, batch_size=100)\n",
    "print(\"\\n%s: %.2f%%\" % (model.metrics_names[1], score[1]*100))"
   ]
  },
  {
   "cell_type": "code",
   "execution_count": null,
   "metadata": {},
   "outputs": [],
   "source": []
  },
  {
   "cell_type": "code",
   "execution_count": 17,
   "metadata": {},
   "outputs": [
    {
     "name": "stdout",
     "output_type": "stream",
     "text": [
      "(None, 50, 1)\n",
      "(None, 46, 32)\n",
      "WARNING:tensorflow:From /home/monster/anaconda3/envs/geo_py37/lib/python3.7/site-packages/keras/backend/tensorflow_backend.py:4070: The name tf.nn.max_pool is deprecated. Please use tf.nn.max_pool2d instead.\n",
      "\n",
      "(None, 23, 32)\n",
      "(None, 19, 64)\n",
      "(None, 9, 64)\n",
      "(None, 576)\n",
      "(None, 1000)\n",
      "(None, 5)\n"
     ]
    }
   ],
   "source": [
    "n_classes = 5\n",
    "\n",
    "model = Sequential()\n",
    "model.add(Conv1D(kernel_size = 5, strides=1,filters = 32, activation='relu',input_shape=(50,1)))\n",
    "                    \n",
    "print(model.input_shape)\n",
    "print(model.output_shape)\n",
    "\n",
    "model.add(MaxPooling1D(pool_size = (2), strides=(2)))\n",
    "print(model.output_shape)\n",
    "\n",
    "model.add(Conv1D (kernel_size = 5, strides=1, filters = 64, activation='relu'))\n",
    "print(model.output_shape)\n",
    "\n",
    "model.add(MaxPooling1D(pool_size = (2), strides=(2)))\n",
    "print(model.output_shape)\n",
    "\n",
    "model.add(Flatten())\n",
    "\n",
    "print(model.output_shape)\n",
    "\n",
    "model.add(Dense (1000, activation='relu'))\n",
    "print(model.output_shape)\n",
    "\n",
    "model.add(Dense(n_classes, activation = 'softmax'))#,activity_regularizer=keras.regularizers.l2()))\n",
    "print(model.output_shape)\n",
    "\n",
    "#model.compile( loss='categorical_crossentropy', optimizer=keras.optimizers.Adam(lr=0.01), metrics=[keras.metrics.categorical_accuracy])\n",
    "model.compile(loss='categorical_crossentropy', optimizer=keras.optimizers.Adam(lr=0.001),metrics=['accuracy'])"
   ]
  },
  {
   "cell_type": "code",
   "execution_count": 18,
   "metadata": {},
   "outputs": [],
   "source": [
    "X1 = np.expand_dims(X_train, axis=2)"
   ]
  },
  {
   "cell_type": "code",
   "execution_count": 19,
   "metadata": {},
   "outputs": [
    {
     "data": {
      "text/plain": [
       "((475000, 50, 1), (475000, 5))"
      ]
     },
     "execution_count": 19,
     "metadata": {},
     "output_type": "execute_result"
    }
   ],
   "source": [
    "X1.shape,y_train.shape"
   ]
  },
  {
   "cell_type": "code",
   "execution_count": 20,
   "metadata": {},
   "outputs": [
    {
     "name": "stdout",
     "output_type": "stream",
     "text": [
      "Epoch 1/10\n",
      "475000/475000 [==============================] - 27s 57us/step - loss: 0.2011 - accuracy: 0.9261\n",
      "Epoch 2/10\n",
      "475000/475000 [==============================] - 26s 56us/step - loss: 0.1517 - accuracy: 0.9442\n",
      "Epoch 3/10\n",
      "475000/475000 [==============================] - 27s 56us/step - loss: 0.1372 - accuracy: 0.9495\n",
      "Epoch 4/10\n",
      "475000/475000 [==============================] - 27s 56us/step - loss: 0.1286 - accuracy: 0.9524\n",
      "Epoch 5/10\n",
      "475000/475000 [==============================] - 27s 56us/step - loss: 0.1209 - accuracy: 0.9554\n",
      "Epoch 6/10\n",
      "475000/475000 [==============================] - 26s 55us/step - loss: 0.1138 - accuracy: 0.9577\n",
      "Epoch 7/10\n",
      "475000/475000 [==============================] - 26s 56us/step - loss: 0.1064 - accuracy: 0.9607\n",
      "Epoch 8/10\n",
      "475000/475000 [==============================] - 26s 55us/step - loss: 0.0988 - accuracy: 0.9633\n",
      "Epoch 9/10\n",
      "475000/475000 [==============================] - 26s 56us/step - loss: 0.0899 - accuracy: 0.9665\n",
      "Epoch 10/10\n",
      "475000/475000 [==============================] - 26s 56us/step - loss: 0.0813 - accuracy: 0.9699\n"
     ]
    },
    {
     "data": {
      "text/plain": [
       "<keras.callbacks.callbacks.History at 0x7f74a00d7110>"
      ]
     },
     "execution_count": 20,
     "metadata": {},
     "output_type": "execute_result"
    }
   ],
   "source": [
    "model.fit(X1, y_train, epochs=10, batch_size=100)"
   ]
  },
  {
   "cell_type": "code",
   "execution_count": 21,
   "metadata": {},
   "outputs": [],
   "source": [
    "X2 = np.expand_dims(X_test, axis=2)"
   ]
  },
  {
   "cell_type": "code",
   "execution_count": 22,
   "metadata": {},
   "outputs": [
    {
     "name": "stdout",
     "output_type": "stream",
     "text": [
      "25000/25000 [==============================] - 1s 41us/step\n",
      "\n",
      "accuracy: 94.98%\n"
     ]
    }
   ],
   "source": [
    "scores = model.evaluate(X2, y_test)\n",
    "print(\"\\n%s: %.2f%%\" % (model.metrics_names[1], scores[1]*100))"
   ]
  },
  {
   "cell_type": "code",
   "execution_count": null,
   "metadata": {},
   "outputs": [],
   "source": []
  },
  {
   "cell_type": "code",
   "execution_count": null,
   "metadata": {},
   "outputs": [],
   "source": []
  },
  {
   "cell_type": "code",
   "execution_count": null,
   "metadata": {},
   "outputs": [],
   "source": []
  }
 ],
 "metadata": {
  "kernelspec": {
   "display_name": "Python 3",
   "language": "python",
   "name": "python3"
  },
  "language_info": {
   "codemirror_mode": {
    "name": "ipython",
    "version": 3
   },
   "file_extension": ".py",
   "mimetype": "text/x-python",
   "name": "python",
   "nbconvert_exporter": "python",
   "pygments_lexer": "ipython3",
   "version": "3.7.6"
  }
 },
 "nbformat": 4,
 "nbformat_minor": 2
}
